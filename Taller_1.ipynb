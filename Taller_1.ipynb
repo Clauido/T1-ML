{
  "cells": [
    {
      "cell_type": "code",
      "execution_count": 6,
      "metadata": {
        "id": "_l_ko7a70gXS"
      },
      "outputs": [],
      "source": [
        "import pandas as pd\n",
        "import numpy as np\n",
        "import seaborn as sns\n",
        "import matplotlib.pyplot as plt"
      ]
    },
    {
      "cell_type": "markdown",
      "metadata": {
        "id": "NBOFRvGa5NBG"
      },
      "source": [
        "#Lectura y Limpieza de datos"
      ]
    },
    {
      "cell_type": "code",
      "execution_count": 7,
      "metadata": {
        "id": "Fri4ERvF1hYk"
      },
      "outputs": [],
      "source": [
        "df=pd.read_csv('./estudialcohol.csv')"
      ]
    },
    {
      "cell_type": "markdown",
      "metadata": {
        "id": "Aunt9Psg_Oue"
      },
      "source": [
        "##Eliminar valores duplicados y valores nulos"
      ]
    },
    {
      "cell_type": "code",
      "execution_count": 4,
      "metadata": {
        "id": "lW5mW9rP7-XJ"
      },
      "outputs": [],
      "source": [
        "df.drop_duplicates(inplace=True)\n",
        "df.dropna(inplace=True)"
      ]
    },
    {
      "cell_type": "markdown",
      "metadata": {},
      "source": [
        "#Identíficar Outlier"
      ]
    },
    {
      "cell_type": "markdown",
      "metadata": {},
      "source": [
        "##Visualizar si hay valores extremos que eliminar"
      ]
    },
    {
      "cell_type": "code",
      "execution_count": null,
      "metadata": {},
      "outputs": [],
      "source": [
        "numb_col = df.select_dtypes(include=['number'])\n",
        "columns = numb_col.columns.values.tolist()\n",
        "\n",
        "fig, ax = plt.subplots(nrows=len(columns), ncols=1, figsize=(8, 30))\n",
        "fig.subplots_adjust(hspace=1)\n",
        "for i, col in enumerate(columns):\n",
        "    sns.boxplot(x=df[col],data=df, ax=ax[i])  \n",
        "    ax[i].set_title(col)"
      ]
    },
    {
      "cell_type": "markdown",
      "metadata": {},
      "source": [
        "##Visualizar si hay valores repetidos en columnas"
      ]
    },
    {
      "cell_type": "code",
      "execution_count": null,
      "metadata": {},
      "outputs": [],
      "source": [
        "\n",
        "columns=df.select_dtypes(exclude=['number']).columns.values.tolist()\n",
        "fig,ax=plt.subplots(nrows=len(columns),ncols=1,figsize=(10,50))\n",
        "fig.subplots_adjust(hspace=1)\n",
        "for i, col in enumerate(columns):\n",
        "    sns.countplot(x=col,data=df,ax=ax[i])\n",
        "    ax[i].set_title(col)\n",
        "    ax[i].set_xticklabels(ax[i].get_xticklabels(),rotation=30)\n"
      ]
    },
    {
      "cell_type": "markdown",
      "metadata": {},
      "source": [
        "##En base a los gráficos obtenidos y las operaciones realizadas, se puede concretar que el df está limpio para un proceso de análisis"
      ]
    },
    {
      "cell_type": "markdown",
      "metadata": {
        "id": "e8f6Ca-5yaCL"
      },
      "source": [
        "# Análisis descriptivo(Obtención de medidas de tendencia central, percentiles y disperción)"
      ]
    },
    {
      "cell_type": "markdown",
      "metadata": {
        "id": "2cLALrMz0dsA"
      },
      "source": [
        "##Promedio, Desviación Estandar, Mediana, Valores Minimos y Máximos, y Percentiles"
      ]
    },
    {
      "cell_type": "code",
      "execution_count": 61,
      "metadata": {
        "colab": {
          "base_uri": "https://localhost:8080/",
          "height": 269
        },
        "id": "e6pP2MuJ1jNf",
        "outputId": "311b88e3-9fd8-4041-c0dc-c0dcbab1f411"
      },
      "outputs": [
        {
          "data": {
            "text/html": [
              "\n",
              "  <div id=\"df-6566e7ce-6c7c-4536-b78b-a86834bc75bb\" class=\"colab-df-container\">\n",
              "    <div>\n",
              "<style scoped>\n",
              "    .dataframe tbody tr th:only-of-type {\n",
              "        vertical-align: middle;\n",
              "    }\n",
              "\n",
              "    .dataframe tbody tr th {\n",
              "        vertical-align: top;\n",
              "    }\n",
              "\n",
              "    .dataframe thead th {\n",
              "        text-align: right;\n",
              "    }\n",
              "</style>\n",
              "<table border=\"1\" class=\"dataframe\">\n",
              "  <thead>\n",
              "    <tr style=\"text-align: right;\">\n",
              "      <th></th>\n",
              "      <th>edad</th>\n",
              "      <th>eduM</th>\n",
              "      <th>eduP</th>\n",
              "      <th>tpoviaje</th>\n",
              "      <th>tpoestudio</th>\n",
              "      <th>areprobadas</th>\n",
              "      <th>qfamrel</th>\n",
              "      <th>tpolibre</th>\n",
              "      <th>saleamigos</th>\n",
              "      <th>salud</th>\n",
              "      <th>inasistencia</th>\n",
              "      <th>G1</th>\n",
              "      <th>G2</th>\n",
              "      <th>G3</th>\n",
              "    </tr>\n",
              "  </thead>\n",
              "  <tbody>\n",
              "    <tr>\n",
              "      <th>mean</th>\n",
              "      <td>21.218667</td>\n",
              "      <td>2.602667</td>\n",
              "      <td>2.567333</td>\n",
              "      <td>2.517000</td>\n",
              "      <td>2.490000</td>\n",
              "      <td>1.486000</td>\n",
              "      <td>3.009333</td>\n",
              "      <td>2.993667</td>\n",
              "      <td>3.007667</td>\n",
              "      <td>3.024667</td>\n",
              "      <td>18.634000</td>\n",
              "      <td>4.085533</td>\n",
              "      <td>4.102900</td>\n",
              "      <td>4.403667</td>\n",
              "    </tr>\n",
              "    <tr>\n",
              "      <th>std</th>\n",
              "      <td>2.226321</td>\n",
              "      <td>1.353047</td>\n",
              "      <td>1.361158</td>\n",
              "      <td>1.130547</td>\n",
              "      <td>1.121451</td>\n",
              "      <td>1.109451</td>\n",
              "      <td>1.410405</td>\n",
              "      <td>1.413138</td>\n",
              "      <td>1.406983</td>\n",
              "      <td>1.424571</td>\n",
              "      <td>16.356096</td>\n",
              "      <td>1.290201</td>\n",
              "      <td>1.344514</td>\n",
              "      <td>1.385145</td>\n",
              "    </tr>\n",
              "    <tr>\n",
              "      <th>min</th>\n",
              "      <td>18.000000</td>\n",
              "      <td>0.000000</td>\n",
              "      <td>0.000000</td>\n",
              "      <td>1.000000</td>\n",
              "      <td>1.000000</td>\n",
              "      <td>0.000000</td>\n",
              "      <td>1.000000</td>\n",
              "      <td>1.000000</td>\n",
              "      <td>1.000000</td>\n",
              "      <td>1.000000</td>\n",
              "      <td>0.000000</td>\n",
              "      <td>1.400000</td>\n",
              "      <td>1.000000</td>\n",
              "      <td>1.300000</td>\n",
              "    </tr>\n",
              "    <tr>\n",
              "      <th>25%</th>\n",
              "      <td>19.000000</td>\n",
              "      <td>2.000000</td>\n",
              "      <td>1.000000</td>\n",
              "      <td>1.000000</td>\n",
              "      <td>1.000000</td>\n",
              "      <td>1.000000</td>\n",
              "      <td>2.000000</td>\n",
              "      <td>2.000000</td>\n",
              "      <td>2.000000</td>\n",
              "      <td>2.000000</td>\n",
              "      <td>7.000000</td>\n",
              "      <td>3.300000</td>\n",
              "      <td>3.300000</td>\n",
              "      <td>3.500000</td>\n",
              "    </tr>\n",
              "    <tr>\n",
              "      <th>50%</th>\n",
              "      <td>21.000000</td>\n",
              "      <td>3.000000</td>\n",
              "      <td>3.000000</td>\n",
              "      <td>3.000000</td>\n",
              "      <td>2.000000</td>\n",
              "      <td>1.000000</td>\n",
              "      <td>3.000000</td>\n",
              "      <td>3.000000</td>\n",
              "      <td>3.000000</td>\n",
              "      <td>3.000000</td>\n",
              "      <td>15.000000</td>\n",
              "      <td>4.000000</td>\n",
              "      <td>4.000000</td>\n",
              "      <td>4.500000</td>\n",
              "    </tr>\n",
              "    <tr>\n",
              "      <th>75%</th>\n",
              "      <td>23.000000</td>\n",
              "      <td>4.000000</td>\n",
              "      <td>4.000000</td>\n",
              "      <td>4.000000</td>\n",
              "      <td>4.000000</td>\n",
              "      <td>2.000000</td>\n",
              "      <td>4.000000</td>\n",
              "      <td>4.000000</td>\n",
              "      <td>4.000000</td>\n",
              "      <td>4.000000</td>\n",
              "      <td>24.000000</td>\n",
              "      <td>4.900000</td>\n",
              "      <td>4.900000</td>\n",
              "      <td>5.400000</td>\n",
              "    </tr>\n",
              "    <tr>\n",
              "      <th>max</th>\n",
              "      <td>25.000000</td>\n",
              "      <td>4.000000</td>\n",
              "      <td>4.000000</td>\n",
              "      <td>4.000000</td>\n",
              "      <td>4.000000</td>\n",
              "      <td>3.000000</td>\n",
              "      <td>5.000000</td>\n",
              "      <td>5.000000</td>\n",
              "      <td>5.000000</td>\n",
              "      <td>5.000000</td>\n",
              "      <td>75.000000</td>\n",
              "      <td>6.700000</td>\n",
              "      <td>6.700000</td>\n",
              "      <td>7.000000</td>\n",
              "    </tr>\n",
              "  </tbody>\n",
              "</table>\n",
              "</div>\n",
              "    <div class=\"colab-df-buttons\">\n",
              "\n",
              "  <div class=\"colab-df-container\">\n",
              "    <button class=\"colab-df-convert\" onclick=\"convertToInteractive('df-6566e7ce-6c7c-4536-b78b-a86834bc75bb')\"\n",
              "            title=\"Convert this dataframe to an interactive table.\"\n",
              "            style=\"display:none;\">\n",
              "\n",
              "  <svg xmlns=\"http://www.w3.org/2000/svg\" height=\"24px\" viewBox=\"0 -960 960 960\">\n",
              "    <path d=\"M120-120v-720h720v720H120Zm60-500h600v-160H180v160Zm220 220h160v-160H400v160Zm0 220h160v-160H400v160ZM180-400h160v-160H180v160Zm440 0h160v-160H620v160ZM180-180h160v-160H180v160Zm440 0h160v-160H620v160Z\"/>\n",
              "  </svg>\n",
              "    </button>\n",
              "\n",
              "  <style>\n",
              "    .colab-df-container {\n",
              "      display:flex;\n",
              "      gap: 12px;\n",
              "    }\n",
              "\n",
              "    .colab-df-convert {\n",
              "      background-color: #E8F0FE;\n",
              "      border: none;\n",
              "      border-radius: 50%;\n",
              "      cursor: pointer;\n",
              "      display: none;\n",
              "      fill: #1967D2;\n",
              "      height: 32px;\n",
              "      padding: 0 0 0 0;\n",
              "      width: 32px;\n",
              "    }\n",
              "\n",
              "    .colab-df-convert:hover {\n",
              "      background-color: #E2EBFA;\n",
              "      box-shadow: 0px 1px 2px rgba(60, 64, 67, 0.3), 0px 1px 3px 1px rgba(60, 64, 67, 0.15);\n",
              "      fill: #174EA6;\n",
              "    }\n",
              "\n",
              "    .colab-df-buttons div {\n",
              "      margin-bottom: 4px;\n",
              "    }\n",
              "\n",
              "    [theme=dark] .colab-df-convert {\n",
              "      background-color: #3B4455;\n",
              "      fill: #D2E3FC;\n",
              "    }\n",
              "\n",
              "    [theme=dark] .colab-df-convert:hover {\n",
              "      background-color: #434B5C;\n",
              "      box-shadow: 0px 1px 3px 1px rgba(0, 0, 0, 0.15);\n",
              "      filter: drop-shadow(0px 1px 2px rgba(0, 0, 0, 0.3));\n",
              "      fill: #FFFFFF;\n",
              "    }\n",
              "  </style>\n",
              "\n",
              "    <script>\n",
              "      const buttonEl =\n",
              "        document.querySelector('#df-6566e7ce-6c7c-4536-b78b-a86834bc75bb button.colab-df-convert');\n",
              "      buttonEl.style.display =\n",
              "        google.colab.kernel.accessAllowed ? 'block' : 'none';\n",
              "\n",
              "      async function convertToInteractive(key) {\n",
              "        const element = document.querySelector('#df-6566e7ce-6c7c-4536-b78b-a86834bc75bb');\n",
              "        const dataTable =\n",
              "          await google.colab.kernel.invokeFunction('convertToInteractive',\n",
              "                                                    [key], {});\n",
              "        if (!dataTable) return;\n",
              "\n",
              "        const docLinkHtml = 'Like what you see? Visit the ' +\n",
              "          '<a target=\"_blank\" href=https://colab.research.google.com/notebooks/data_table.ipynb>data table notebook</a>'\n",
              "          + ' to learn more about interactive tables.';\n",
              "        element.innerHTML = '';\n",
              "        dataTable['output_type'] = 'display_data';\n",
              "        await google.colab.output.renderOutput(dataTable, element);\n",
              "        const docLink = document.createElement('div');\n",
              "        docLink.innerHTML = docLinkHtml;\n",
              "        element.appendChild(docLink);\n",
              "      }\n",
              "    </script>\n",
              "  </div>\n",
              "\n",
              "\n",
              "<div id=\"df-03b0ffac-37f3-4abe-9fb6-8a5f8017d12d\">\n",
              "  <button class=\"colab-df-quickchart\" onclick=\"quickchart('df-03b0ffac-37f3-4abe-9fb6-8a5f8017d12d')\"\n",
              "            title=\"Suggest charts.\"\n",
              "            style=\"display:none;\">\n",
              "\n",
              "<svg xmlns=\"http://www.w3.org/2000/svg\" height=\"24px\"viewBox=\"0 0 24 24\"\n",
              "     width=\"24px\">\n",
              "    <g>\n",
              "        <path d=\"M19 3H5c-1.1 0-2 .9-2 2v14c0 1.1.9 2 2 2h14c1.1 0 2-.9 2-2V5c0-1.1-.9-2-2-2zM9 17H7v-7h2v7zm4 0h-2V7h2v10zm4 0h-2v-4h2v4z\"/>\n",
              "    </g>\n",
              "</svg>\n",
              "  </button>\n",
              "\n",
              "<style>\n",
              "  .colab-df-quickchart {\n",
              "      --bg-color: #E8F0FE;\n",
              "      --fill-color: #1967D2;\n",
              "      --hover-bg-color: #E2EBFA;\n",
              "      --hover-fill-color: #174EA6;\n",
              "      --disabled-fill-color: #AAA;\n",
              "      --disabled-bg-color: #DDD;\n",
              "  }\n",
              "\n",
              "  [theme=dark] .colab-df-quickchart {\n",
              "      --bg-color: #3B4455;\n",
              "      --fill-color: #D2E3FC;\n",
              "      --hover-bg-color: #434B5C;\n",
              "      --hover-fill-color: #FFFFFF;\n",
              "      --disabled-bg-color: #3B4455;\n",
              "      --disabled-fill-color: #666;\n",
              "  }\n",
              "\n",
              "  .colab-df-quickchart {\n",
              "    background-color: var(--bg-color);\n",
              "    border: none;\n",
              "    border-radius: 50%;\n",
              "    cursor: pointer;\n",
              "    display: none;\n",
              "    fill: var(--fill-color);\n",
              "    height: 32px;\n",
              "    padding: 0;\n",
              "    width: 32px;\n",
              "  }\n",
              "\n",
              "  .colab-df-quickchart:hover {\n",
              "    background-color: var(--hover-bg-color);\n",
              "    box-shadow: 0 1px 2px rgba(60, 64, 67, 0.3), 0 1px 3px 1px rgba(60, 64, 67, 0.15);\n",
              "    fill: var(--button-hover-fill-color);\n",
              "  }\n",
              "\n",
              "  .colab-df-quickchart-complete:disabled,\n",
              "  .colab-df-quickchart-complete:disabled:hover {\n",
              "    background-color: var(--disabled-bg-color);\n",
              "    fill: var(--disabled-fill-color);\n",
              "    box-shadow: none;\n",
              "  }\n",
              "\n",
              "  .colab-df-spinner {\n",
              "    border: 2px solid var(--fill-color);\n",
              "    border-color: transparent;\n",
              "    border-bottom-color: var(--fill-color);\n",
              "    animation:\n",
              "      spin 1s steps(1) infinite;\n",
              "  }\n",
              "\n",
              "  @keyframes spin {\n",
              "    0% {\n",
              "      border-color: transparent;\n",
              "      border-bottom-color: var(--fill-color);\n",
              "      border-left-color: var(--fill-color);\n",
              "    }\n",
              "    20% {\n",
              "      border-color: transparent;\n",
              "      border-left-color: var(--fill-color);\n",
              "      border-top-color: var(--fill-color);\n",
              "    }\n",
              "    30% {\n",
              "      border-color: transparent;\n",
              "      border-left-color: var(--fill-color);\n",
              "      border-top-color: var(--fill-color);\n",
              "      border-right-color: var(--fill-color);\n",
              "    }\n",
              "    40% {\n",
              "      border-color: transparent;\n",
              "      border-right-color: var(--fill-color);\n",
              "      border-top-color: var(--fill-color);\n",
              "    }\n",
              "    60% {\n",
              "      border-color: transparent;\n",
              "      border-right-color: var(--fill-color);\n",
              "    }\n",
              "    80% {\n",
              "      border-color: transparent;\n",
              "      border-right-color: var(--fill-color);\n",
              "      border-bottom-color: var(--fill-color);\n",
              "    }\n",
              "    90% {\n",
              "      border-color: transparent;\n",
              "      border-bottom-color: var(--fill-color);\n",
              "    }\n",
              "  }\n",
              "</style>\n",
              "\n",
              "  <script>\n",
              "    async function quickchart(key) {\n",
              "      const quickchartButtonEl =\n",
              "        document.querySelector('#' + key + ' button');\n",
              "      quickchartButtonEl.disabled = true;  // To prevent multiple clicks.\n",
              "      quickchartButtonEl.classList.add('colab-df-spinner');\n",
              "      try {\n",
              "        const charts = await google.colab.kernel.invokeFunction(\n",
              "            'suggestCharts', [key], {});\n",
              "      } catch (error) {\n",
              "        console.error('Error during call to suggestCharts:', error);\n",
              "      }\n",
              "      quickchartButtonEl.classList.remove('colab-df-spinner');\n",
              "      quickchartButtonEl.classList.add('colab-df-quickchart-complete');\n",
              "    }\n",
              "    (() => {\n",
              "      let quickchartButtonEl =\n",
              "        document.querySelector('#df-03b0ffac-37f3-4abe-9fb6-8a5f8017d12d button');\n",
              "      quickchartButtonEl.style.display =\n",
              "        google.colab.kernel.accessAllowed ? 'block' : 'none';\n",
              "    })();\n",
              "  </script>\n",
              "</div>\n",
              "    </div>\n",
              "  </div>\n"
            ],
            "text/plain": [
              "           edad      eduM      eduP  tpoviaje  tpoestudio  areprobadas  \\\n",
              "mean  21.218667  2.602667  2.567333  2.517000    2.490000     1.486000   \n",
              "std    2.226321  1.353047  1.361158  1.130547    1.121451     1.109451   \n",
              "min   18.000000  0.000000  0.000000  1.000000    1.000000     0.000000   \n",
              "25%   19.000000  2.000000  1.000000  1.000000    1.000000     1.000000   \n",
              "50%   21.000000  3.000000  3.000000  3.000000    2.000000     1.000000   \n",
              "75%   23.000000  4.000000  4.000000  4.000000    4.000000     2.000000   \n",
              "max   25.000000  4.000000  4.000000  4.000000    4.000000     3.000000   \n",
              "\n",
              "       qfamrel  tpolibre  saleamigos     salud  inasistencia        G1  \\\n",
              "mean  3.009333  2.993667    3.007667  3.024667     18.634000  4.085533   \n",
              "std   1.410405  1.413138    1.406983  1.424571     16.356096  1.290201   \n",
              "min   1.000000  1.000000    1.000000  1.000000      0.000000  1.400000   \n",
              "25%   2.000000  2.000000    2.000000  2.000000      7.000000  3.300000   \n",
              "50%   3.000000  3.000000    3.000000  3.000000     15.000000  4.000000   \n",
              "75%   4.000000  4.000000    4.000000  4.000000     24.000000  4.900000   \n",
              "max   5.000000  5.000000    5.000000  5.000000     75.000000  6.700000   \n",
              "\n",
              "            G2        G3  \n",
              "mean  4.102900  4.403667  \n",
              "std   1.344514  1.385145  \n",
              "min   1.000000  1.300000  \n",
              "25%   3.300000  3.500000  \n",
              "50%   4.000000  4.500000  \n",
              "75%   4.900000  5.400000  \n",
              "max   6.700000  7.000000  "
            ]
          },
          "execution_count": 61,
          "metadata": {},
          "output_type": "execute_result"
        }
      ],
      "source": [
        " df.describe()[1:]"
      ]
    },
    {
      "cell_type": "markdown",
      "metadata": {
        "id": "eVraYaGO030M"
      },
      "source": [
        "##Moda"
      ]
    },
    {
      "cell_type": "code",
      "execution_count": null,
      "metadata": {
        "id": "TNR8XE0qz-DZ"
      },
      "outputs": [],
      "source": [
        "df.mode()"
      ]
    },
    {
      "cell_type": "markdown",
      "metadata": {
        "id": "QGm3fXj11br_"
      },
      "source": [
        "##Rango"
      ]
    },
    {
      "cell_type": "code",
      "execution_count": null,
      "metadata": {
        "id": "A9r9Vi8w1m7S"
      },
      "outputs": [],
      "source": [
        "pivot=df.select_dtypes(include='number')\n",
        "pd.DataFrame(pivot.max()-pivot.min() )"
      ]
    },
    {
      "cell_type": "markdown",
      "metadata": {
        "id": "XWM4k7C828qq"
      },
      "source": [
        "##Varianza"
      ]
    },
    {
      "cell_type": "code",
      "execution_count": null,
      "metadata": {
        "id": "k_NjTyPg3JMC"
      },
      "outputs": [],
      "source": [
        "df_var=df.var(numeric_only=True)\n",
        "pd.DataFrame(df_var)"
      ]
    },
    {
      "cell_type": "markdown",
      "metadata": {
        "id": "7Z6y35t_4PXa"
      },
      "source": [
        "#Gráficos"
      ]
    },
    {
      "cell_type": "code",
      "execution_count": null,
      "metadata": {
        "id": "d_rNSRnf4RQS"
      },
      "outputs": [],
      "source": []
    }
  ],
  "metadata": {
    "colab": {
      "provenance": []
    },
    "kernelspec": {
      "display_name": "Python 3",
      "name": "python3"
    },
    "language_info": {
      "codemirror_mode": {
        "name": "ipython",
        "version": 3
      },
      "file_extension": ".py",
      "mimetype": "text/x-python",
      "name": "python",
      "nbconvert_exporter": "python",
      "pygments_lexer": "ipython3",
      "version": "3.11.4"
    }
  },
  "nbformat": 4,
  "nbformat_minor": 0
}
